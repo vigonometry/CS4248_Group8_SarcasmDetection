{
 "cells": [
  {
   "cell_type": "code",
   "execution_count": 21,
   "id": "d50b33c0",
   "metadata": {},
   "outputs": [
    {
     "name": "stdout",
     "output_type": "stream",
     "text": [
      "                                        article_link  \\\n",
      "0  https://www.huffingtonpost.com/entry/versace-b...   \n",
      "1  https://www.huffingtonpost.com/entry/roseanne-...   \n",
      "2  https://local.theonion.com/mom-starting-to-fea...   \n",
      "3  https://politics.theonion.com/boehner-just-wan...   \n",
      "4  https://www.huffingtonpost.com/entry/jk-rowlin...   \n",
      "\n",
      "                                            headline  is_sarcastic  \n",
      "0  former versace store clerk sues over secret 'b...             0  \n",
      "1  the 'roseanne' revival catches up to our thorn...             0  \n",
      "2  mom starting to fear son's web series closest ...             1  \n",
      "3  boehner just wants wife to listen, not come up...             1  \n",
      "4  j.k. rowling wishes snape happy birthday in th...             0  \n",
      "<class 'pandas.core.frame.DataFrame'>\n",
      "RangeIndex: 26709 entries, 0 to 26708\n",
      "Data columns (total 3 columns):\n",
      " #   Column        Non-Null Count  Dtype \n",
      "---  ------        --------------  ----- \n",
      " 0   article_link  26709 non-null  object\n",
      " 1   headline      26709 non-null  object\n",
      " 2   is_sarcastic  26709 non-null  int64 \n",
      "dtypes: int64(1), object(2)\n",
      "memory usage: 626.1+ KB\n",
      "None\n"
     ]
    }
   ],
   "source": [
    "import pandas as pd\n",
    "import json\n",
    "import re\n",
    "import nltk\n",
    "import string\n",
    "from bs4 import BeautifulSoup\n",
    "\n",
    "file_path = 'Sarcasm_Headlines_Dataset.json'\n",
    "data = []\n",
    "\n",
    "with open(file_path, 'r', encoding='utf-8') as f:\n",
    "    for line in f:\n",
    "        data.append(json.loads(line))\n",
    "df = pd.DataFrame(data)\n",
    "\n",
    "print(df.head())\n",
    "print(df.info())"
   ]
  },
  {
   "cell_type": "code",
   "execution_count": 22,
   "id": "9bdcfd26",
   "metadata": {},
   "outputs": [
    {
     "name": "stdout",
     "output_type": "stream",
     "text": [
      "headline        0\n",
      "is_sarcastic    0\n",
      "dtype: int64\n"
     ]
    }
   ],
   "source": [
    "del df['article_link'] # column not used\n",
    "\n",
    "print(df.isnull().sum()) \n",
    "# df,dropna(inplcae=True) # if None value exists\n",
    "\n",
    "df.drop_duplicates(subset=['headline'], inplace=True) # remove the repeated data"
   ]
  },
  {
   "cell_type": "code",
   "execution_count": 35,
   "id": "0a98a0d7",
   "metadata": {},
   "outputs": [
    {
     "name": "stderr",
     "output_type": "stream",
     "text": [
      "[nltk_data] Downloading package stopwords to\n",
      "[nltk_data]     /Users/pjzzzz/nltk_data...\n",
      "[nltk_data]   Package stopwords is already up-to-date!\n"
     ]
    }
   ],
   "source": [
    "nltk.download('stopwords')\n",
    "stop = set(stopwords.words('english')) # frequent english stopwords (the, is, and ...)\n",
    "punctuation = list(string.punctuation) # punctuation (, . ! ? ...)\n",
    "stop.update(punctuation) # add the punctuation to the stopwords set\n",
    "\n",
    "def strip_html(text):\n",
    "    soup = BeautifulSoup(text, \"html.parser\")\n",
    "    return soup.get_text() # remove the HTML label (<p> <a> <xxx>...)\n",
    "\n",
    "def remove_urls(text):\n",
    "    return re.sub(r'http\\S+', '', text) # remobe the urls (https://test.com ...)\n",
    "\n",
    "def remove_between_square_brackets(text): \n",
    "    return re.sub('\\[[^]]*\\]', '', text) # remove the '[content]'\n",
    "\n",
    "def remove_stopwords(text):\n",
    "    final_text = []\n",
    "    for i in text.split():\n",
    "        if i.strip().lower() not in stop:\n",
    "            final_text.append(i.strip())\n",
    "    return \" \".join(final_text) # remove the specific words in stopwords set(stopwords+punctuation)\n",
    "\n",
    "abbreviations = {\n",
    "    r\"\\bI'm\\b\": \"I am\",\n",
    "    r\"\\bit's\\b\": \"it is\",\n",
    "    r\"\\bcan't\\b\": \"cannot\",\n",
    "    r\"\\bdon't\\b\": \"do not\",\n",
    "    r\"\\bwon't\\b\": \"will not\",\n",
    "    r\"\\bI'm\\b\": \"I am\",\n",
    "    r\"\\bI've\\b\": \"I have\",\n",
    "    r\"\\blet's\\b\": \"let us\",\n",
    "    r\"\\bthey're\\b\": \"they are\",\n",
    "    r\"\\bhe's\\b\": \"he is\",\n",
    "    r\"\\bshe's\\b\": \"she is\",\n",
    "    r\"\\bwe're\\b\": \"we are\",\n",
    "    r\"\\byou're\\b\": \"you are\",\n",
    "}\n",
    "\n",
    "def expand_contractions(text):\n",
    "    for abbr, full_form in abbreviations.items():\n",
    "        text = re.sub(abbr, full_form, text)\n",
    "    return text # replace the abbreviation to full-format\n",
    "\n",
    "def remove_spaces(text):\n",
    "    return re.sub(r'\\s+', ' ', text).strip()\n",
    "\n",
    "def denoise_text(text):\n",
    "    text = strip_html(text)\n",
    "    text = remove_urls(text)\n",
    "    text = text.lower() # lower all the characters\n",
    "    text = remove_between_square_brackets(text)\n",
    "    text = remove_stopwords(text)\n",
    "    text = expand_contractions(text)\n",
    "    text = remove_spaces(text)\n",
    "    return text\n",
    "\n",
    "df['headline'] = df['headline'].apply(denoise_text) #Apply function on review column"
   ]
  },
  {
   "cell_type": "code",
   "execution_count": 38,
   "id": "50367ed6",
   "metadata": {},
   "outputs": [
    {
     "name": "stdout",
     "output_type": "stream",
     "text": [
      "l.a. grants clippers $12 new nets\n"
     ]
    }
   ],
   "source": [
    "print(df.iloc[106]['headline'])"
   ]
  }
 ],
 "metadata": {
  "kernelspec": {
   "display_name": "Python 3 (ipykernel)",
   "language": "python",
   "name": "python3"
  },
  "language_info": {
   "codemirror_mode": {
    "name": "ipython",
    "version": 3
   },
   "file_extension": ".py",
   "mimetype": "text/x-python",
   "name": "python",
   "nbconvert_exporter": "python",
   "pygments_lexer": "ipython3",
   "version": "3.9.13"
  }
 },
 "nbformat": 4,
 "nbformat_minor": 5
}
