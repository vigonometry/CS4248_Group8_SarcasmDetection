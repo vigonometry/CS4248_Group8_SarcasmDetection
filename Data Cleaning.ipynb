{
 "cells": [
  {
   "cell_type": "code",
   "execution_count": 3,
   "id": "d50b33c0",
   "metadata": {},
   "outputs": [
    {
     "ename": "FileNotFoundError",
     "evalue": "[Errno 2] No such file or directory: 'Sarcasm_Headlines_Dataset.json'",
     "output_type": "error",
     "traceback": [
      "\u001b[0;31m---------------------------------------------------------------------------\u001b[0m",
      "\u001b[0;31mFileNotFoundError\u001b[0m                         Traceback (most recent call last)",
      "Cell \u001b[0;32mIn[3], line 11\u001b[0m\n\u001b[1;32m      8\u001b[0m file_path \u001b[38;5;241m=\u001b[39m \u001b[38;5;124m'\u001b[39m\u001b[38;5;124mSarcasm_Headlines_Dataset.json\u001b[39m\u001b[38;5;124m'\u001b[39m\n\u001b[1;32m      9\u001b[0m data \u001b[38;5;241m=\u001b[39m []\n\u001b[0;32m---> 11\u001b[0m \u001b[38;5;28;01mwith\u001b[39;00m \u001b[38;5;28;43mopen\u001b[39;49m\u001b[43m(\u001b[49m\u001b[43mfile_path\u001b[49m\u001b[43m,\u001b[49m\u001b[43m \u001b[49m\u001b[38;5;124;43m'\u001b[39;49m\u001b[38;5;124;43mr\u001b[39;49m\u001b[38;5;124;43m'\u001b[39;49m\u001b[43m,\u001b[49m\u001b[43m \u001b[49m\u001b[43mencoding\u001b[49m\u001b[38;5;241;43m=\u001b[39;49m\u001b[38;5;124;43m'\u001b[39;49m\u001b[38;5;124;43mutf-8\u001b[39;49m\u001b[38;5;124;43m'\u001b[39;49m\u001b[43m)\u001b[49m \u001b[38;5;28;01mas\u001b[39;00m f:\n\u001b[1;32m     12\u001b[0m     \u001b[38;5;28;01mfor\u001b[39;00m line \u001b[38;5;129;01min\u001b[39;00m f:\n\u001b[1;32m     13\u001b[0m         data\u001b[38;5;241m.\u001b[39mappend(json\u001b[38;5;241m.\u001b[39mloads(line))\n",
      "File \u001b[0;32m~/miniconda3/envs/sarcasm_detection/lib/python3.13/site-packages/IPython/core/interactiveshell.py:324\u001b[0m, in \u001b[0;36m_modified_open\u001b[0;34m(file, *args, **kwargs)\u001b[0m\n\u001b[1;32m    317\u001b[0m \u001b[38;5;28;01mif\u001b[39;00m file \u001b[38;5;129;01min\u001b[39;00m {\u001b[38;5;241m0\u001b[39m, \u001b[38;5;241m1\u001b[39m, \u001b[38;5;241m2\u001b[39m}:\n\u001b[1;32m    318\u001b[0m     \u001b[38;5;28;01mraise\u001b[39;00m \u001b[38;5;167;01mValueError\u001b[39;00m(\n\u001b[1;32m    319\u001b[0m         \u001b[38;5;124mf\u001b[39m\u001b[38;5;124m\"\u001b[39m\u001b[38;5;124mIPython won\u001b[39m\u001b[38;5;124m'\u001b[39m\u001b[38;5;124mt let you open fd=\u001b[39m\u001b[38;5;132;01m{\u001b[39;00mfile\u001b[38;5;132;01m}\u001b[39;00m\u001b[38;5;124m by default \u001b[39m\u001b[38;5;124m\"\u001b[39m\n\u001b[1;32m    320\u001b[0m         \u001b[38;5;124m\"\u001b[39m\u001b[38;5;124mas it is likely to crash IPython. If you know what you are doing, \u001b[39m\u001b[38;5;124m\"\u001b[39m\n\u001b[1;32m    321\u001b[0m         \u001b[38;5;124m\"\u001b[39m\u001b[38;5;124myou can use builtins\u001b[39m\u001b[38;5;124m'\u001b[39m\u001b[38;5;124m open.\u001b[39m\u001b[38;5;124m\"\u001b[39m\n\u001b[1;32m    322\u001b[0m     )\n\u001b[0;32m--> 324\u001b[0m \u001b[38;5;28;01mreturn\u001b[39;00m \u001b[43mio_open\u001b[49m\u001b[43m(\u001b[49m\u001b[43mfile\u001b[49m\u001b[43m,\u001b[49m\u001b[43m \u001b[49m\u001b[38;5;241;43m*\u001b[39;49m\u001b[43margs\u001b[49m\u001b[43m,\u001b[49m\u001b[43m \u001b[49m\u001b[38;5;241;43m*\u001b[39;49m\u001b[38;5;241;43m*\u001b[39;49m\u001b[43mkwargs\u001b[49m\u001b[43m)\u001b[49m\n",
      "\u001b[0;31mFileNotFoundError\u001b[0m: [Errno 2] No such file or directory: 'Sarcasm_Headlines_Dataset.json'"
     ]
    }
   ],
   "source": [
    "import pandas as pd\n",
    "import json\n",
    "import re\n",
    "import nltk\n",
    "import string\n",
    "from bs4 import BeautifulSoup\n",
    "\n",
    "file_path = 'Sarcasm_Headlines_Dataset.json'\n",
    "data = []\n",
    "\n",
    "with open(file_path, 'r', encoding='utf-8') as f:\n",
    "    for line in f:\n",
    "        data.append(json.loads(line))\n",
    "df = pd.DataFrame(data)\n",
    "\n",
    "print(df.head())\n",
    "print(df.info())"
   ]
  },
  {
   "cell_type": "code",
   "execution_count": null,
   "id": "9bdcfd26",
   "metadata": {},
   "outputs": [],
   "source": [
    "del df['article_link'] # column not used\n",
    "\n",
    "print(df.isnull().sum()) \n",
    "# df,dropna(inplcae=True) # if None value exists\n",
    "\n",
    "df.drop_duplicates(subset=['headline'], inplace=True) # remove the repeated data"
   ]
  },
  {
   "cell_type": "code",
   "execution_count": null,
   "id": "0a98a0d7",
   "metadata": {},
   "outputs": [],
   "source": [
    "nltk.download('stopwords')\n",
    "stop = set(stopwords.words('english')) # frequent english stopwords (the, is, and ...)\n",
    "punctuation = list(string.punctuation) # punctuation (, . ! ? ...)\n",
    "stop.update(punctuation) # add the punctuation to the stopwords set\n",
    "\n",
    "def strip_html(text):\n",
    "    soup = BeautifulSoup(text, \"html.parser\")\n",
    "    return soup.get_text() # remove the HTML label (<p> <a> <xxx>...)\n",
    "\n",
    "def remove_urls(text):\n",
    "    return re.sub(r'http\\S+', '', text) # remobe the urls (https://test.com ...)\n",
    "\n",
    "def remove_between_square_brackets(text): \n",
    "    return re.sub('\\[[^]]*\\]', '', text) # remove the '[content]'\n",
    "\n",
    "def remove_stopwords(text):\n",
    "    final_text = []\n",
    "    for i in text.split():\n",
    "        if i.strip().lower() not in stop:\n",
    "            final_text.append(i.strip())\n",
    "    return \" \".join(final_text) # remove the specific words in stopwords set(stopwords+punctuation)\n",
    "\n",
    "abbreviations = {\n",
    "    r\"\\bI'm\\b\": \"I am\",\n",
    "    r\"\\bit's\\b\": \"it is\",\n",
    "    r\"\\bcan't\\b\": \"cannot\",\n",
    "    r\"\\bdon't\\b\": \"do not\",\n",
    "    r\"\\bwon't\\b\": \"will not\",\n",
    "    r\"\\bI'm\\b\": \"I am\",\n",
    "    r\"\\bI've\\b\": \"I have\",\n",
    "    r\"\\blet's\\b\": \"let us\",\n",
    "    r\"\\bthey're\\b\": \"they are\",\n",
    "    r\"\\bhe's\\b\": \"he is\",\n",
    "    r\"\\bshe's\\b\": \"she is\",\n",
    "    r\"\\bwe're\\b\": \"we are\",\n",
    "    r\"\\byou're\\b\": \"you are\",\n",
    "}\n",
    "\n",
    "def expand_contractions(text):\n",
    "    for abbr, full_form in abbreviations.items():\n",
    "        text = re.sub(abbr, full_form, text)\n",
    "    return text # replace the abbreviation to full-format\n",
    "\n",
    "def remove_spaces(text):\n",
    "    return re.sub(r'\\s+', ' ', text).strip()\n",
    "\n",
    "def denoise_text(text):\n",
    "    text = strip_html(text)\n",
    "    text = remove_urls(text)\n",
    "    text = text.lower() # lower all the characters\n",
    "    text = remove_between_square_brackets(text)\n",
    "    text = remove_stopwords(text)\n",
    "    text = expand_contractions(text)\n",
    "    text = remove_spaces(text)\n",
    "    return text\n",
    "\n",
    "df['headline'] = df['headline'].apply(denoise_text) #Apply function on review column"
   ]
  },
  {
   "cell_type": "code",
   "execution_count": null,
   "id": "50367ed6",
   "metadata": {},
   "outputs": [],
   "source": [
    "print(df.iloc[106]['headline'])"
   ]
  },
  {
   "cell_type": "code",
   "execution_count": null,
   "id": "6a711eef-13e7-441c-a820-341fbd4b79cb",
   "metadata": {},
   "outputs": [],
   "source": []
  }
 ],
 "metadata": {
  "kernelspec": {
   "display_name": "Python 3 (ipykernel)",
   "language": "python",
   "name": "python3"
  },
  "language_info": {
   "codemirror_mode": {
    "name": "ipython",
    "version": 3
   },
   "file_extension": ".py",
   "mimetype": "text/x-python",
   "name": "python",
   "nbconvert_exporter": "python",
   "pygments_lexer": "ipython3",
   "version": "3.13.2"
  }
 },
 "nbformat": 4,
 "nbformat_minor": 5
}
