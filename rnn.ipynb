{
 "cells": [
  {
   "cell_type": "code",
   "execution_count": 1,
   "metadata": {},
   "outputs": [],
   "source": [
    "import pandas as pd\n",
    "import numpy as np\n",
    "from sklearn.metrics import classification_report\n",
    "from gensim.models import Word2Vec\n",
    "from gensim.corpora.dictionary import Dictionary\n",
    "from gensim.models import LdaModel\n",
    "from sklearn.model_selection import train_test_split\n",
    "import torch\n",
    "import torch.nn as nn\n",
    "import torch.optim as optim\n",
    "import torch.nn.utils.rnn as rnn_utils"
   ]
  },
  {
   "cell_type": "code",
   "execution_count": 2,
   "metadata": {},
   "outputs": [
    {
     "data": {
      "text/html": [
       "<div>\n",
       "<style scoped>\n",
       "    .dataframe tbody tr th:only-of-type {\n",
       "        vertical-align: middle;\n",
       "    }\n",
       "\n",
       "    .dataframe tbody tr th {\n",
       "        vertical-align: top;\n",
       "    }\n",
       "\n",
       "    .dataframe thead th {\n",
       "        text-align: right;\n",
       "    }\n",
       "</style>\n",
       "<table border=\"1\" class=\"dataframe\">\n",
       "  <thead>\n",
       "    <tr style=\"text-align: right;\">\n",
       "      <th></th>\n",
       "      <th>headline</th>\n",
       "      <th>headline_cleaned</th>\n",
       "      <th>tokenized_text_nltk</th>\n",
       "      <th>lemmatized_text_nltk</th>\n",
       "      <th>is_sarcastic</th>\n",
       "    </tr>\n",
       "  </thead>\n",
       "  <tbody>\n",
       "    <tr>\n",
       "      <th>0</th>\n",
       "      <td>former versace store clerk sues over secret 'b...</td>\n",
       "      <td>former versace store clerk sues over secret bl...</td>\n",
       "      <td>[former, versace, store, clerk, sues, over, se...</td>\n",
       "      <td>[former, versace, store, clerk, sue, secret, b...</td>\n",
       "      <td>0</td>\n",
       "    </tr>\n",
       "    <tr>\n",
       "      <th>1</th>\n",
       "      <td>the 'roseanne' revival catches up to our thorn...</td>\n",
       "      <td>the roseanne revival catches up to our thorny ...</td>\n",
       "      <td>[the, roseanne, revival, catches, up, to, our,...</td>\n",
       "      <td>[roseanne, revival, catch, thorny, political, ...</td>\n",
       "      <td>0</td>\n",
       "    </tr>\n",
       "    <tr>\n",
       "      <th>2</th>\n",
       "      <td>mom starting to fear son's web series closest ...</td>\n",
       "      <td>mom starting to fear sons web series closest t...</td>\n",
       "      <td>[mom, starting, to, fear, sons, web, series, c...</td>\n",
       "      <td>[mom, starting, fear, son, web, series, closes...</td>\n",
       "      <td>1</td>\n",
       "    </tr>\n",
       "    <tr>\n",
       "      <th>3</th>\n",
       "      <td>boehner just wants wife to listen, not come up...</td>\n",
       "      <td>boehner just wants wife to listen not come up ...</td>\n",
       "      <td>[boehner, just, wants, wife, to, listen, not, ...</td>\n",
       "      <td>[boehner, just, want, wife, listen, not, come,...</td>\n",
       "      <td>1</td>\n",
       "    </tr>\n",
       "    <tr>\n",
       "      <th>4</th>\n",
       "      <td>j.k. rowling wishes snape happy birthday in th...</td>\n",
       "      <td>jk rowling wishes snape happy birthday in the ...</td>\n",
       "      <td>[jk, rowling, wishes, snape, happy, birthday, ...</td>\n",
       "      <td>[jk, rowling, wish, snape, happy, birthday, mo...</td>\n",
       "      <td>0</td>\n",
       "    </tr>\n",
       "  </tbody>\n",
       "</table>\n",
       "</div>"
      ],
      "text/plain": [
       "                                            headline  \\\n",
       "0  former versace store clerk sues over secret 'b...   \n",
       "1  the 'roseanne' revival catches up to our thorn...   \n",
       "2  mom starting to fear son's web series closest ...   \n",
       "3  boehner just wants wife to listen, not come up...   \n",
       "4  j.k. rowling wishes snape happy birthday in th...   \n",
       "\n",
       "                                    headline_cleaned  \\\n",
       "0  former versace store clerk sues over secret bl...   \n",
       "1  the roseanne revival catches up to our thorny ...   \n",
       "2  mom starting to fear sons web series closest t...   \n",
       "3  boehner just wants wife to listen not come up ...   \n",
       "4  jk rowling wishes snape happy birthday in the ...   \n",
       "\n",
       "                                 tokenized_text_nltk  \\\n",
       "0  [former, versace, store, clerk, sues, over, se...   \n",
       "1  [the, roseanne, revival, catches, up, to, our,...   \n",
       "2  [mom, starting, to, fear, sons, web, series, c...   \n",
       "3  [boehner, just, wants, wife, to, listen, not, ...   \n",
       "4  [jk, rowling, wishes, snape, happy, birthday, ...   \n",
       "\n",
       "                                lemmatized_text_nltk  is_sarcastic  \n",
       "0  [former, versace, store, clerk, sue, secret, b...             0  \n",
       "1  [roseanne, revival, catch, thorny, political, ...             0  \n",
       "2  [mom, starting, fear, son, web, series, closes...             1  \n",
       "3  [boehner, just, want, wife, listen, not, come,...             1  \n",
       "4  [jk, rowling, wish, snape, happy, birthday, mo...             0  "
      ]
     },
     "execution_count": 2,
     "metadata": {},
     "output_type": "execute_result"
    }
   ],
   "source": [
    "# Load data\n",
    "spacy_df = pd.read_csv('data/features_nltk.csv')\n",
    "spacy_df = spacy_df[['headline', 'headline_cleaned', 'tokenized_text_nltk', 'lemmatized_text_nltk', 'is_sarcastic']]\n",
    "\n",
    "# Process text columns\n",
    "spacy_df['tokenized_text_nltk'] = spacy_df['tokenized_text_nltk'].apply(lambda x: x.replace('[','').replace(']','').replace(\"'\",'').replace(\",\",'').split())\n",
    "spacy_df['lemmatized_text_nltk'] = spacy_df['lemmatized_text_nltk'].apply(lambda x: x.replace('[','').replace(']','').replace(\"'\",'').replace(\",\",'').split())\n",
    "\n",
    "tokenized_sentences = spacy_df['tokenized_text_nltk'].tolist()\n",
    "lemmatized_sentences = spacy_df['lemmatized_text_nltk'].tolist()\n",
    "spacy_df.head()"
   ]
  },
  {
   "cell_type": "code",
   "execution_count": 3,
   "metadata": {},
   "outputs": [
    {
     "name": "stdout",
     "output_type": "stream",
     "text": [
      "Max sentence length without lemmatization: 39\n",
      "Min sentence length without lemmatization: 2\n",
      "Mean sentence length without lemmatization: 9.92627953124415\n",
      "Max sentence length with lemmatization: 27\n",
      "Min sentence length with lemmatization: 1\n",
      "Mean sentence length with lemmatization: 7.223482721180127\n"
     ]
    }
   ],
   "source": [
    "# Sentence length analysis\n",
    "sentence_lengths = spacy_df['tokenized_text_nltk'].apply(len)\n",
    "print(\"Max sentence length without lemmatization:\", sentence_lengths.max())\n",
    "print(\"Min sentence length without lemmatization:\", sentence_lengths.min())\n",
    "print(\"Mean sentence length without lemmatization:\", sentence_lengths.mean())\n",
    "\n",
    "sentence_lengths_lemmatized = spacy_df['lemmatized_text_nltk'].apply(len)\n",
    "print(\"Max sentence length with lemmatization:\", sentence_lengths_lemmatized.max())\n",
    "print(\"Min sentence length with lemmatization:\", sentence_lengths_lemmatized.min())\n",
    "print(\"Mean sentence length with lemmatization:\", sentence_lengths_lemmatized.mean())"
   ]
  },
  {
   "cell_type": "code",
   "execution_count": 4,
   "metadata": {},
   "outputs": [
    {
     "data": {
      "image/png": "[encoded data removed]",
      "text/plain": [
       "<Figure size 1200x600 with 1 Axes>"
      ]
     },
     "metadata": {},
     "output_type": "display_data"
    }
   ],
   "source": [
    "# Plot the distribution of sentence lengths\n",
    "import matplotlib.pyplot as plt\n",
    "import seaborn as sns\n",
    "sns.set(style=\"whitegrid\")\n",
    "plt.figure(figsize=(12, 6))\n",
    "plt.hist(sentence_lengths, bins=50, alpha=0.7, label='Tokenized')\n",
    "plt.hist(sentence_lengths_lemmatized, bins=50, alpha=0.7, label='Lemmatized')\n",
    "plt.title('Distribution of Sentence Lengths')\n",
    "plt.xlabel('Sentence Length')\n",
    "plt.ylabel('Frequency')\n",
    "plt.legend()\n",
    "plt.show()"
   ]
  },
  {
   "cell_type": "markdown",
   "metadata": {},
   "source": [
    "From the above, it can be seen that removing stopwords and lemmatizing reduces the spread of sentence lengths. Hence the RNN will work on the lemmatized texts for better standardization."
   ]
  },
  {
   "cell_type": "code",
   "execution_count": 5,
   "metadata": {},
   "outputs": [],
   "source": [
    "# Use lemmatized sentences to generate word2vec embeddings\n",
    "model = Word2Vec(sentences=lemmatized_sentences, vector_size=100, window=5, min_count=1, workers=4)\n"
   ]
  },
  {
   "cell_type": "markdown",
   "metadata": {},
   "source": [
    "We shall standardize the sentence length to 9. Any sentence longer than 9 words will be truncated to the first 9 words and any text less than that will be padded with zeroes"
   ]
  },
  {
   "cell_type": "code",
   "execution_count": 24,
   "metadata": {},
   "outputs": [],
   "source": [
    "import numpy as np\n",
    "import torch\n",
    "\n",
    "# Function to get Word2Vec embeddings for a sentence\n",
    "def get_word2vec_embeddings(model, sentence, embed_dim=100, sentence_length=9):\n",
    "    embeddings = []\n",
    "\n",
    "    for word in sentence:\n",
    "        if word in model.wv:\n",
    "            vec = model.wv[word]\n",
    "            vec = vec / (np.linalg.norm(vec) + 1e-6)  # Normalize\n",
    "            embeddings.append(vec)\n",
    "\n",
    "    # Ensure exactly sentence_length words\n",
    "    if len(embeddings) < sentence_length:\n",
    "        # Pad with zeros\n",
    "        embeddings += [np.zeros(embed_dim)] * (sentence_length - len(embeddings))\n",
    "    else:\n",
    "        # Truncate if too long\n",
    "        embeddings = embeddings[:sentence_length]\n",
    "\n",
    "    return torch.tensor(embeddings, dtype=torch.float32)  # Shape: (sentence_length, embed_dim)\n"
   ]
  },
  {
   "cell_type": "code",
   "execution_count": 25,
   "metadata": {},
   "outputs": [
    {
     "name": "stdout",
     "output_type": "stream",
     "text": [
      "[9]\n"
     ]
    },
    {
     "name": "stderr",
     "output_type": "stream",
     "text": [
      "C:\\Users\\Vaishnav M\\AppData\\Local\\Temp\\ipykernel_19232\\4176788209.py:7: UserWarning: To copy construct from a tensor, it is recommended to use sourceTensor.clone().detach() or sourceTensor.clone().detach().requires_grad_(True), rather than torch.tensor(sourceTensor).\n",
      "  spacy_df['is_sarcastic'] = spacy_df['is_sarcastic'].apply(lambda x: torch.tensor(x, dtype=torch.float32))\n"
     ]
    }
   ],
   "source": [
    "# Convert text to word2vec embeddings\n",
    "spacy_df['word2vec_embeddings'] = spacy_df['lemmatized_text_nltk'].apply(\n",
    "    lambda x: get_word2vec_embeddings(model, x, embed_dim=100, sentence_length=9)\n",
    ")\n",
    "\n",
    "# Ensure labels are tensors\n",
    "spacy_df['is_sarcastic'] = spacy_df['is_sarcastic'].apply(lambda x: torch.tensor(x, dtype=torch.float32))\n",
    "\n",
    "spacy_df['embedding_len'] = spacy_df['word2vec_embeddings'].apply(lambda x: len(x))\n",
    "# Check the embedding length\n",
    "print(spacy_df['embedding_len'].unique())"
   ]
  },
  {
   "cell_type": "code",
   "execution_count": 26,
   "metadata": {},
   "outputs": [],
   "source": [
    "# Train-test split\n",
    "from sklearn.model_selection import train_test_split\n",
    "train_X, test_X, train_y, test_y = train_test_split(\n",
    "    list(spacy_df['word2vec_embeddings']), list(spacy_df['is_sarcastic']),\n",
    "    test_size=0.2, random_state=42\n",
    ")\n",
    "\n",
    "# Convert to tensors and create dataset\n",
    "train_X = torch.stack(train_X)  # Now all should be (9, 100)\n",
    "train_y = torch.stack(train_y)\n",
    "test_X = torch.stack(test_X)\n",
    "test_y = torch.stack(test_y)\n",
    "\n",
    "# Create DataLoaders\n",
    "from torch.utils.data import DataLoader, TensorDataset\n",
    "\n",
    "batch_size = 32\n",
    "train_dataset = TensorDataset(train_X, train_y)\n",
    "train_loader = DataLoader(train_dataset, batch_size=batch_size, shuffle=True)\n",
    "\n",
    "test_dataset = TensorDataset(test_X, test_y)\n",
    "test_loader = DataLoader(test_dataset, batch_size=batch_size, shuffle=False)"
   ]
  },
  {
   "cell_type": "code",
   "execution_count": 27,
   "metadata": {},
   "outputs": [
    {
     "data": {
      "text/plain": [
       "torch.Size([9, 100])"
      ]
     },
     "execution_count": 27,
     "metadata": {},
     "output_type": "execute_result"
    }
   ],
   "source": [
    "train_X[4].shape"
   ]
  },
  {
   "cell_type": "code",
   "execution_count": 29,
   "metadata": {},
   "outputs": [
    {
     "data": {
      "text/plain": [
       "torch.Size([9, 100])"
      ]
     },
     "execution_count": 29,
     "metadata": {},
     "output_type": "execute_result"
    }
   ],
   "source": [
    "test_X[0].shape"
   ]
  },
  {
   "cell_type": "code",
   "execution_count": 30,
   "metadata": {},
   "outputs": [],
   "source": [
    "# Implement the RNN model\n",
    "import torch.nn as nn\n",
    "class UniRNN(nn.Module):\n",
    "    # Since we have already computed embeddings, we can directly use them as input to the RNN\n",
    "    # The input size will be the embedding size (100 in this case)\n",
    "    def __init__(self, input_size, hidden_size, output_size=1, num_layers=1):\n",
    "        super(UniRNN, self).__init__()\n",
    "        self.rnn = nn.RNN(input_size, hidden_size, num_layers=num_layers, batch_first=True)\n",
    "        \n",
    "        self.fc = nn.Linear(hidden_size, output_size)\n",
    "        self.sigmoid = nn.Sigmoid()\n",
    "\n",
    "    def forward(self, embeddings):\n",
    "        # Pass the embeddings through the RNN\n",
    "        rnn_out, _ = self.rnn(embeddings)\n",
    "        # Use the last output of the RNN for classification\n",
    "        last_out = rnn_out[:, -1, :]\n",
    "        out = self.fc(last_out)\n",
    "        out = self.sigmoid(out)\n",
    "        return out"
   ]
  },
  {
   "cell_type": "code",
   "execution_count": 31,
   "metadata": {},
   "outputs": [],
   "source": [
    "output_size = 1  # Binary classification (sarcastic or not sarcastic)\n",
    "input_size = 100  # Embedding size\n",
    "hidden_size = 50  # Size of the hidden layer\n",
    "num_layers = 1  # Number of RNN layers\n",
    "\n",
    "uni_rnn = UniRNN(input_size, hidden_size, output_size, num_layers)\n",
    "# Define loss function and optimizer\n",
    "criterion = nn.BCELoss()\n",
    "optimizer = optim.Adam(uni_rnn.parameters(), lr=0.001)"
   ]
  },
  {
   "cell_type": "code",
   "execution_count": 32,
   "metadata": {},
   "outputs": [
    {
     "name": "stdout",
     "output_type": "stream",
     "text": [
      "Epoch [1/5], Step [100/668], Loss: 0.6881\n",
      "Epoch [1/5], Step [200/668], Loss: 0.6985\n",
      "Epoch [1/5], Step [300/668], Loss: 0.6703\n",
      "Epoch [1/5], Step [400/668], Loss: 0.7076\n",
      "Epoch [1/5], Step [500/668], Loss: 0.6797\n",
      "Epoch [1/5], Step [600/668], Loss: 0.7043\n",
      "Epoch [2/5], Step [100/668], Loss: 0.7138\n",
      "Epoch [2/5], Step [200/668], Loss: 0.6952\n",
      "Epoch [2/5], Step [300/668], Loss: 0.6960\n",
      "Epoch [2/5], Step [400/668], Loss: 0.6778\n",
      "Epoch [2/5], Step [500/668], Loss: 0.6569\n",
      "Epoch [2/5], Step [600/668], Loss: 0.7003\n",
      "Epoch [3/5], Step [100/668], Loss: 0.6960\n",
      "Epoch [3/5], Step [200/668], Loss: 0.7129\n",
      "Epoch [3/5], Step [300/668], Loss: 0.6820\n",
      "Epoch [3/5], Step [400/668], Loss: 0.6820\n",
      "Epoch [3/5], Step [500/668], Loss: 0.7556\n",
      "Epoch [3/5], Step [600/668], Loss: 0.6999\n",
      "Epoch [4/5], Step [100/668], Loss: 0.6197\n",
      "Epoch [4/5], Step [200/668], Loss: 0.5715\n",
      "Epoch [4/5], Step [300/668], Loss: 0.7895\n",
      "Epoch [4/5], Step [400/668], Loss: 0.7306\n",
      "Epoch [4/5], Step [500/668], Loss: 0.6027\n",
      "Epoch [4/5], Step [600/668], Loss: 0.6833\n",
      "Epoch [5/5], Step [100/668], Loss: 0.5339\n",
      "Epoch [5/5], Step [200/668], Loss: 0.6296\n",
      "Epoch [5/5], Step [300/668], Loss: 0.6614\n",
      "Epoch [5/5], Step [400/668], Loss: 0.6425\n",
      "Epoch [5/5], Step [500/668], Loss: 0.6569\n",
      "Epoch [5/5], Step [600/668], Loss: 0.5228\n"
     ]
    }
   ],
   "source": [
    "epochs = 5 # Number of epochs for training\n",
    "\n",
    "# Training loop\n",
    "for epoch in range(epochs):\n",
    "    uni_rnn.train()\n",
    "    for i, (embeddings, labels) in enumerate(train_loader):\n",
    "        optimizer.zero_grad()\n",
    "        outputs = uni_rnn(embeddings)\n",
    "        loss = criterion(outputs.squeeze(), labels.float())\n",
    "        loss.backward()\n",
    "        optimizer.step()\n",
    "        \n",
    "        if (i+1) % 100 == 0:\n",
    "            print(f'Epoch [{epoch+1}/{epochs}], Step [{i+1}/{len(train_loader)}], Loss: {loss.item():.4f}')"
   ]
  },
  {
   "cell_type": "code",
   "execution_count": 22,
   "metadata": {},
   "outputs": [
    {
     "data": {
      "text/plain": [
       "torch.Size([10, 100])"
      ]
     },
     "execution_count": 22,
     "metadata": {},
     "output_type": "execute_result"
    }
   ],
   "source": [
    "train_X[0].shape"
   ]
  },
  {
   "cell_type": "code",
   "execution_count": 23,
   "metadata": {},
   "outputs": [
    {
     "data": {
      "text/plain": [
       "torch.Size([9, 100])"
      ]
     },
     "execution_count": 23,
     "metadata": {},
     "output_type": "execute_result"
    }
   ],
   "source": [
    "train_X[12].shape"
   ]
  },
  {
   "cell_type": "code",
   "execution_count": 33,
   "metadata": {},
   "outputs": [
    {
     "name": "stdout",
     "output_type": "stream",
     "text": [
      "               precision    recall  f1-score   support\n",
      "\n",
      "Not Sarcastic       0.62      0.84      0.71      2996\n",
      "    Sarcastic       0.63      0.34      0.44      2346\n",
      "\n",
      "     accuracy                           0.62      5342\n",
      "    macro avg       0.62      0.59      0.58      5342\n",
      " weighted avg       0.62      0.62      0.59      5342\n",
      "\n"
     ]
    }
   ],
   "source": [
    "# Evaluate test set\n",
    "uni_rnn.eval()\n",
    "predictions = []\n",
    "true_labels = []\n",
    "with torch.no_grad():\n",
    "    for embeddings, labels in test_loader:\n",
    "        outputs = uni_rnn(embeddings)\n",
    "        predicted = (outputs.squeeze() > 0.5).float()\n",
    "        predictions.extend(predicted.numpy())\n",
    "        true_labels.extend(labels.numpy())\n",
    "\n",
    "# Convert to numpy arrays for classification report\n",
    "predictions = np.array(predictions)\n",
    "true_labels = np.array(true_labels)\n",
    "# Classification report\n",
    "print(classification_report(true_labels, predictions, target_names=['Not Sarcastic', 'Sarcastic']))"
   ]
  },
  {
   "cell_type": "markdown",
   "metadata": {},
   "source": [
    "### Bidirectional RNN"
   ]
  },
  {
   "cell_type": "code",
   "execution_count": 40,
   "metadata": {},
   "outputs": [],
   "source": [
    "class BiRNN(nn.Module):\n",
    "    # Since we have already computed embeddings, we can directly use them as input to the RNN\n",
    "    # The input size will be the embedding size (100 in this case)\n",
    "    def __init__(self, input_size, hidden_size, output_size=1, num_layers=1):\n",
    "        super(BiRNN, self).__init__()\n",
    "        self.rnn = nn.RNN(input_size, hidden_size, num_layers=num_layers, batch_first=True, bidirectional=True)\n",
    "        self.bidirectional = True\n",
    "        self.fc = nn.Linear(hidden_size * 2, output_size)\n",
    "        self.sigmoid = nn.Sigmoid()\n",
    "\n",
    "    def forward(self, embeddings):\n",
    "        # Pass the embeddings through the RNN\n",
    "        rnn_out, _ = self.rnn(embeddings)\n",
    "        # Use the last output of the RNN for classification\n",
    "        last_out = rnn_out[:, -1, :]\n",
    "        out = self.fc(last_out)\n",
    "        out = self.sigmoid(out)\n",
    "        return out\n",
    "        \n",
    "    def init_hidden(self, batch_size):\n",
    "        ''' Initializes hidden state '''\n",
    "        return torch.zeros(self.num_layers * 2, batch_size, self.hidden_size)  # Multiply by 2 for bidirectionality"
   ]
  },
  {
   "cell_type": "code",
   "execution_count": 41,
   "metadata": {},
   "outputs": [],
   "source": [
    "# Initialize BiRNN model\n",
    "bi_rnn = BiRNN(input_size, hidden_size, output_size, num_layers)\n",
    "# Define loss function and optimizer\n",
    "criterion = nn.BCELoss()\n",
    "optimizer = optim.Adam(bi_rnn.parameters(), lr=0.001)"
   ]
  },
  {
   "cell_type": "code",
   "execution_count": 42,
   "metadata": {},
   "outputs": [
    {
     "name": "stdout",
     "output_type": "stream",
     "text": [
      "Epoch [1/5], Step [100/668], Loss: 0.6702\n",
      "Epoch [1/5], Step [200/668], Loss: 0.6810\n",
      "Epoch [1/5], Step [300/668], Loss: 0.6541\n",
      "Epoch [1/5], Step [400/668], Loss: 0.6802\n",
      "Epoch [1/5], Step [500/668], Loss: 0.6762\n",
      "Epoch [1/5], Step [600/668], Loss: 0.7258\n",
      "Epoch [2/5], Step [100/668], Loss: 0.6934\n",
      "Epoch [2/5], Step [200/668], Loss: 0.6577\n",
      "Epoch [2/5], Step [300/668], Loss: 0.6390\n",
      "Epoch [2/5], Step [400/668], Loss: 0.7278\n",
      "Epoch [2/5], Step [500/668], Loss: 0.6848\n",
      "Epoch [2/5], Step [600/668], Loss: 0.6823\n",
      "Epoch [3/5], Step [100/668], Loss: 0.7175\n",
      "Epoch [3/5], Step [200/668], Loss: 0.5770\n",
      "Epoch [3/5], Step [300/668], Loss: 0.6821\n",
      "Epoch [3/5], Step [400/668], Loss: 0.7469\n",
      "Epoch [3/5], Step [500/668], Loss: 0.6649\n",
      "Epoch [3/5], Step [600/668], Loss: 0.7148\n",
      "Epoch [4/5], Step [100/668], Loss: 0.6538\n",
      "Epoch [4/5], Step [200/668], Loss: 0.5831\n",
      "Epoch [4/5], Step [300/668], Loss: 0.5870\n",
      "Epoch [4/5], Step [400/668], Loss: 0.6984\n",
      "Epoch [4/5], Step [500/668], Loss: 0.5616\n",
      "Epoch [4/5], Step [600/668], Loss: 0.5936\n",
      "Epoch [5/5], Step [100/668], Loss: 0.6966\n",
      "Epoch [5/5], Step [200/668], Loss: 0.6531\n",
      "Epoch [5/5], Step [300/668], Loss: 0.7292\n",
      "Epoch [5/5], Step [400/668], Loss: 0.6389\n",
      "Epoch [5/5], Step [500/668], Loss: 0.5837\n",
      "Epoch [5/5], Step [600/668], Loss: 0.6297\n"
     ]
    }
   ],
   "source": [
    "# Training loop for BiRNN\n",
    "for epoch in range(epochs):\n",
    "    bi_rnn.train()\n",
    "    for i, (embeddings, labels) in enumerate(train_loader):\n",
    "        optimizer.zero_grad()\n",
    "        outputs = bi_rnn(embeddings)\n",
    "        loss = criterion(outputs.squeeze(), labels.float())\n",
    "        loss.backward()\n",
    "        optimizer.step()\n",
    "        \n",
    "        if (i+1) % 100 == 0:\n",
    "            print(f'Epoch [{epoch+1}/{epochs}], Step [{i+1}/{len(train_loader)}], Loss: {loss.item():.4f}')"
   ]
  },
  {
   "cell_type": "code",
   "execution_count": 43,
   "metadata": {},
   "outputs": [
    {
     "name": "stdout",
     "output_type": "stream",
     "text": [
      "               precision    recall  f1-score   support\n",
      "\n",
      "Not Sarcastic       0.68      0.59      0.63      2996\n",
      "    Sarcastic       0.55      0.64      0.59      2346\n",
      "\n",
      "     accuracy                           0.61      5342\n",
      "    macro avg       0.61      0.61      0.61      5342\n",
      " weighted avg       0.62      0.61      0.61      5342\n",
      "\n"
     ]
    }
   ],
   "source": [
    "# Evaluate test set for BiRNN\n",
    "bi_rnn.eval()\n",
    "predictions = []\n",
    "true_labels = []\n",
    "with torch.no_grad():\n",
    "    for embeddings, labels in test_loader:\n",
    "        outputs = bi_rnn(embeddings)\n",
    "        predicted = (outputs.squeeze() > 0.5).float()\n",
    "        predictions.extend(predicted.numpy())\n",
    "        true_labels.extend(labels.numpy())\n",
    "\n",
    "# Classification report for BiRNN\n",
    "print(classification_report(true_labels, predictions, target_names=['Not Sarcastic', 'Sarcastic']))"
   ]
  },
  {
   "cell_type": "code",
   "execution_count": null,
   "metadata": {},
   "outputs": [],
   "source": []
  }
 ],
 "metadata": {
  "kernelspec": {
   "display_name": "Python 3",
   "language": "python",
   "name": "python3"
  },
  "language_info": {
   "codemirror_mode": {
    "name": "ipython",
    "version": 3
   },
   "file_extension": ".py",
   "mimetype": "text/x-python",
   "name": "python",
   "nbconvert_exporter": "python",
   "pygments_lexer": "ipython3",
   "version": "3.11.9"
  }
 },
 "nbformat": 4,
 "nbformat_minor": 2
}
